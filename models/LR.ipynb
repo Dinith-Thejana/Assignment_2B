{
 "cells": [
  {
   "cell_type": "code",
   "execution_count": 13,
   "id": "2eb98fe4-6618-4742-bf3b-c27bae1773e2",
   "metadata": {},
   "outputs": [
    {
     "name": "stdout",
     "output_type": "stream",
     "text": [
      "['Notes', 'Data', 'Summary Of Data']\n"
     ]
    }
   ],
   "source": [
    "import pandas as pd\n",
    "\n",
    "xls = pd.ExcelFile(\"Scats Data October 2006.xls\")\n",
    "\n",
    "# Show all sheet names in the Excel file\n",
    "print(xls.sheet_names)\n"
   ]
  },
  {
   "cell_type": "code",
   "execution_count": 23,
   "id": "279dc9a7-8982-4c5e-9fa3-861f87940ff2",
   "metadata": {},
   "outputs": [
    {
     "name": "stdout",
     "output_type": "stream",
     "text": [
      "['Start Time', datetime.time(0, 0), datetime.time(0, 15), datetime.time(0, 30), datetime.time(0, 45), datetime.time(1, 0), datetime.time(1, 15), datetime.time(1, 30), datetime.time(1, 45), datetime.time(2, 0), datetime.time(2, 15), datetime.time(2, 30), datetime.time(2, 45), datetime.time(3, 0), datetime.time(3, 15), datetime.time(3, 30), datetime.time(3, 45), datetime.time(4, 0), datetime.time(4, 15), datetime.time(4, 30), datetime.time(4, 45), datetime.time(5, 0), datetime.time(5, 15), datetime.time(5, 30), datetime.time(5, 45), datetime.time(6, 0), datetime.time(6, 15), datetime.time(6, 30), datetime.time(6, 45), datetime.time(7, 0), datetime.time(7, 15), datetime.time(7, 30), datetime.time(7, 45), datetime.time(8, 0), datetime.time(8, 15), datetime.time(8, 30), datetime.time(8, 45), datetime.time(9, 0), datetime.time(9, 15), datetime.time(9, 30), datetime.time(9, 45), datetime.time(10, 0), datetime.time(10, 15), datetime.time(10, 30), datetime.time(10, 45), datetime.time(11, 0), datetime.time(11, 15), datetime.time(11, 30), datetime.time(11, 45), datetime.time(12, 0), datetime.time(12, 15), datetime.time(12, 30), datetime.time(12, 45), datetime.time(13, 0), datetime.time(13, 15), datetime.time(13, 30), datetime.time(13, 45), datetime.time(14, 0), datetime.time(14, 15), datetime.time(14, 30), datetime.time(14, 45), datetime.time(15, 0), datetime.time(15, 15), datetime.time(15, 30), datetime.time(15, 45), datetime.time(16, 0), datetime.time(16, 15), datetime.time(16, 30), datetime.time(16, 45), datetime.time(17, 0), datetime.time(17, 15), datetime.time(17, 30), datetime.time(17, 45), datetime.time(18, 0), datetime.time(18, 15), datetime.time(18, 30), datetime.time(18, 45), datetime.time(19, 0), datetime.time(19, 15), datetime.time(19, 30), datetime.time(19, 45), datetime.time(20, 0), datetime.time(20, 15), datetime.time(20, 30), datetime.time(20, 45), datetime.time(21, 0), datetime.time(21, 15), datetime.time(21, 30), datetime.time(21, 45), datetime.time(22, 0), datetime.time(22, 15), datetime.time(22, 30), datetime.time(22, 45), datetime.time(23, 0), datetime.time(23, 15), datetime.time(23, 30), datetime.time(23, 45)]\n"
     ]
    }
   ],
   "source": [
    "print(df_clean.columns.tolist())\n"
   ]
  },
  {
   "cell_type": "code",
   "execution_count": 29,
   "id": "4e1fab7b-2a53-499f-8c7d-ca61fb6a4c7f",
   "metadata": {},
   "outputs": [
    {
     "name": "stdout",
     "output_type": "stream",
     "text": [
      "           Start Time      Time Volume   Datetime  Hour  DayOfWeek\n",
      "0 2006-10-01 00:15:00  00:00:00     86 2006-10-01     0          6\n",
      "1 2006-10-02 00:15:00  00:00:00     32 2006-10-02     0          0\n",
      "2 2006-10-03 00:15:00  00:00:00     26 2006-10-03     0          1\n",
      "3 2006-10-04 00:15:00  00:00:00     32 2006-10-04     0          2\n",
      "4 2006-10-05 00:15:00  00:00:00     40 2006-10-05     0          3\n"
     ]
    }
   ],
   "source": [
    "import pandas as pd\n",
    "import datetime\n",
    "\n",
    "# Step 1: Drop all-empty rows and the first 9 metadata columns\n",
    "df_clean = df.dropna(how='all')\n",
    "df_clean = df_clean.drop(columns=df_clean.columns[:9])\n",
    "\n",
    "# ✅ Step 2: Remove rows where 'Start Time' is not a proper datetime (like \"Date\" text)\n",
    "df_clean = df_clean[~df_clean['Start Time'].astype(str).str.contains(\"Date\", case=False)]\n",
    "\n",
    "# ✅ Step 3: Convert 'Start Time' to datetime safely\n",
    "df_clean['Start Time'] = pd.to_datetime(df_clean['Start Time'], errors='coerce')\n",
    "df_clean = df_clean.dropna(subset=['Start Time'])  # Remove any failed conversions\n",
    "\n",
    "# Step 4: Melt into long format\n",
    "df_melted = df_clean.melt(id_vars=[\"Start Time\"], var_name=\"Time\", value_name=\"Volume\")\n",
    "\n",
    "# Step 5: Combine date + time\n",
    "df_melted['Datetime'] = df_melted.apply(\n",
    "    lambda row: datetime.datetime.combine(row['Start Time'].date(), row['Time']), axis=1\n",
    ")\n",
    "\n",
    "# Step 6: Extract ML features\n",
    "df_melted['Hour'] = df_melted['Datetime'].dt.hour\n",
    "df_melted['DayOfWeek'] = df_melted['Datetime'].dt.dayofweek\n",
    "df_melted = df_melted.dropna(subset=['Volume'])\n",
    "\n",
    "# ✅ Final preview\n",
    "print(df_melted.head())\n"
   ]
  },
  {
   "cell_type": "code",
   "execution_count": 33,
   "id": "0028781d-458e-472d-9543-82ac5588729d",
   "metadata": {},
   "outputs": [
    {
     "name": "stdout",
     "output_type": "stream",
     "text": [
      "✅ MAE: 164.43632918885118\n",
      "✅ RMSE: 172.8960457333665\n"
     ]
    }
   ],
   "source": [
    "from sklearn.linear_model import LinearRegression\n",
    "from sklearn.model_selection import train_test_split\n",
    "from sklearn.metrics import mean_absolute_error, mean_squared_error\n",
    "import numpy as np\n",
    "\n",
    "# Step 1: Select input features and target\n",
    "X = df_melted[['Hour', 'DayOfWeek']]\n",
    "y = df_melted['Volume']\n",
    "\n",
    "# Step 2: Split into training and testing sets\n",
    "X_train, X_test, y_train, y_test = train_test_split(X, y, test_size=0.2, shuffle=False)\n",
    "\n",
    "# Step 3: Train the Linear Regression model\n",
    "model = LinearRegression()\n",
    "model.fit(X_train, y_train)\n",
    "\n",
    "# Step 4: Predict and evaluate\n",
    "predictions = model.predict(X_test)\n",
    "\n",
    "mae = mean_absolute_error(y_test, predictions)\n",
    "rmse = np.sqrt(mean_squared_error(y_test, predictions))\n",
    "\n",
    "print(\"✅ MAE:\", mae)\n",
    "print(\"✅ RMSE:\", rmse)\n"
   ]
  },
  {
   "cell_type": "code",
   "execution_count": 37,
   "id": "32457849-6149-41f9-8300-e1f6ac0e09b6",
   "metadata": {},
   "outputs": [],
   "source": [
    "# Converts volume (flow) → speed using the quadratic formula\n",
    "def flow_to_speed(flow):\n",
    "    a = -1.4648375\n",
    "    b = 93.75\n",
    "    c = -flow\n",
    "    discriminant = b**2 - 4*a*c\n",
    "    if discriminant < 0:\n",
    "        return 5  # fallback speed\n",
    "    sqrt_d = np.sqrt(discriminant)\n",
    "    speed1 = (-b + sqrt_d) / (2*a)\n",
    "    speed2 = (-b - sqrt_d) / (2*a)\n",
    "    return max(min(speed1, speed2), 1)  # choose under-saturated speed\n",
    "\n",
    "# Converts speed → travel time in seconds\n",
    "def speed_to_travel_time(speed_kmh, distance_km=1):\n",
    "    travel_time_sec = (distance_km / speed_kmh) * 3600 + 30\n",
    "    return travel_time_sec\n"
   ]
  },
  {
   "cell_type": "code",
   "execution_count": 39,
   "id": "2392480d-5203-4e47-8b56-f9d6c3d06d3b",
   "metadata": {},
   "outputs": [
    {
     "name": "stdout",
     "output_type": "stream",
     "text": [
      "🚦 Predicted flow: 217.33\n",
      "🚗 Estimated speed: 2.41 km/h\n",
      "🕒 Travel time: 1524.52 seconds\n"
     ]
    }
   ],
   "source": [
    "# Try on one prediction\n",
    "predicted_flow = predictions[0]\n",
    "speed = flow_to_speed(predicted_flow)\n",
    "travel_time = speed_to_travel_time(speed)\n",
    "\n",
    "print(f\"🚦 Predicted flow: {predicted_flow:.2f}\")\n",
    "print(f\"🚗 Estimated speed: {speed:.2f} km/h\")\n",
    "print(f\"🕒 Travel time: {travel_time:.2f} seconds\")\n"
   ]
  },
  {
   "cell_type": "code",
   "execution_count": null,
   "id": "e0d16bd2-4bfd-4fdf-8dfb-6e12e60eb34d",
   "metadata": {},
   "outputs": [],
   "source": []
  }
 ],
 "metadata": {
  "kernelspec": {
   "display_name": "Python [conda env:base] *",
   "language": "python",
   "name": "conda-base-py"
  },
  "language_info": {
   "codemirror_mode": {
    "name": "ipython",
    "version": 3
   },
   "file_extension": ".py",
   "mimetype": "text/x-python",
   "name": "python",
   "nbconvert_exporter": "python",
   "pygments_lexer": "ipython3",
   "version": "3.12.7"
  }
 },
 "nbformat": 4,
 "nbformat_minor": 5
}
