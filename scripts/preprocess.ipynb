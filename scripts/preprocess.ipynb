{
 "cells": [
  {
   "cell_type": "code",
   "execution_count": 1,
   "id": "017dab7f",
   "metadata": {},
   "outputs": [],
   "source": [
    "import pandas as pd\n",
    "import os"
   ]
  },
  {
   "cell_type": "code",
   "execution_count": 11,
   "id": "a791d34f",
   "metadata": {},
   "outputs": [],
   "source": [
    "df = pd.read_excel(r\"..\\data\\Scats Data October 2006.xls\", sheet_name=\"Data\", header=1)"
   ]
  },
  {
   "cell_type": "code",
   "execution_count": 9,
   "id": "441f75b4",
   "metadata": {},
   "outputs": [
    {
     "name": "stdout",
     "output_type": "stream",
     "text": [
      " Columns found:\n",
      "Index(['Unnamed: 0', 'Unnamed: 1', 'Unnamed: 2', 'Unnamed: 3', 'Unnamed: 4',\n",
      "       'Unnamed: 5', 'Unnamed: 6', 'Unnamed: 7', 'Unnamed: 8', 'Start Time',\n",
      "       ...\n",
      "       '21:30:00', '21:45:00', '22:00:00', '22:15:00', '22:30:00', '22:45:00',\n",
      "       '23:00:00', '23:15:00', '23:30:00', '23:45:00'],\n",
      "      dtype='object', length=106)\n"
     ]
    }
   ],
   "source": [
    "# Clean column names\n",
    "df.columns = [str(col).strip() for col in df.columns]\n",
    "\n",
    "# Print column names (for confirmation/debugging)\n",
    "print(\" Columns found:\")\n",
    "print(df.columns)"
   ]
  },
  {
   "cell_type": "code",
   "execution_count": 14,
   "id": "e2eecd12",
   "metadata": {},
   "outputs": [],
   "source": [
    "wrong_numbers = [970,2000,2820,3001,3002,3127,3682,3685,4057,4262,4263,4264,4272,4812]\n",
    "columns_wrong_numbers = df[df['SCATS Number'].isin(wrong_numbers)].index\n",
    "df_dropped = df.drop(columns_wrong_numbers)"
   ]
  },
  {
   "cell_type": "code",
   "execution_count": 15,
   "id": "bf43f2d0",
   "metadata": {},
   "outputs": [
    {
     "data": {
      "text/plain": [
       "<bound method NDFrame.head of       SCATS Number                     Location CD_MELWAY  NB_LATITUDE  \\\n",
       "237           2200  UNION_RD N of MAROONDAH_HWY   046 H08    -37.81631   \n",
       "238           2200  UNION_RD N of MAROONDAH_HWY   046 H08    -37.81631   \n",
       "239           2200  UNION_RD N of MAROONDAH_HWY   046 H08    -37.81631   \n",
       "240           2200  UNION_RD N of MAROONDAH_HWY   046 H08    -37.81631   \n",
       "241           2200  UNION_RD N of MAROONDAH_HWY   046 H08    -37.81631   \n",
       "...            ...                          ...       ...          ...   \n",
       "4187          4821  VICTORIA_ST W OF BURNLEY_ST   002HF02    -37.81296   \n",
       "4188          4821  VICTORIA_ST W OF BURNLEY_ST   002HF02    -37.81296   \n",
       "4189          4821  VICTORIA_ST W OF BURNLEY_ST   002HF02    -37.81296   \n",
       "4190          4821  VICTORIA_ST W OF BURNLEY_ST   002HF02    -37.81296   \n",
       "4191          4821  VICTORIA_ST W OF BURNLEY_ST   002HF02    -37.81296   \n",
       "\n",
       "      NB_LONGITUDE  HF VicRoads Internal  VR Internal Stat  VR Internal Loc  \\\n",
       "237      145.09812                 10074               198                1   \n",
       "238      145.09812                 10074               198                1   \n",
       "239      145.09812                 10074               198                1   \n",
       "240      145.09812                 10074               198                1   \n",
       "241      145.09812                 10074               198                1   \n",
       "...            ...                   ...               ...              ...   \n",
       "4187     145.00830                  6673              1513                7   \n",
       "4188     145.00830                  6673              1513                7   \n",
       "4189     145.00830                  6673              1513                7   \n",
       "4190     145.00830                  6673              1513                7   \n",
       "4191     145.00830                  6673              1513                7   \n",
       "\n",
       "      NB_TYPE_SURVEY                Date  ...  V86  V87  V88  V89  V90  V91  \\\n",
       "237                1 2006-10-01 00:15:00  ...   30   30   34   28   28   14   \n",
       "238                1 2006-10-02 00:15:00  ...   25   24   32   25   21   22   \n",
       "239                1 2006-10-03 00:15:00  ...   43   31   40   33   32   46   \n",
       "240                1 2006-10-04 00:15:00  ...   42   41   40   26   34   24   \n",
       "241                1 2006-10-05 00:15:00  ...   44   35   38   47   31   26   \n",
       "...              ...                 ...  ...  ...  ...  ...  ...  ...  ...   \n",
       "4187               1 2006-10-27 00:15:00  ...  122  121  127  103  122  124   \n",
       "4188               1 2006-10-28 00:15:00  ...   93   93   93  105  105  112   \n",
       "4189               1 2006-10-29 00:15:00  ...   87  118   83   76   66   64   \n",
       "4190               1 2006-10-30 00:15:00  ...   90   88   89   80   74   48   \n",
       "4191               1 2006-10-31 00:15:00  ...  123  103   93   87   74   87   \n",
       "\n",
       "      V92  V93  V94  V95  \n",
       "237    14   15   12    5  \n",
       "238    17    7    8    7  \n",
       "239    11   11   11    7  \n",
       "240    25   15    8    8  \n",
       "241    22   15   14    9  \n",
       "...   ...  ...  ...  ...  \n",
       "4187  117   99  108   88  \n",
       "4188   82   97  106  107  \n",
       "4189   77   60   49   45  \n",
       "4190   67   62   50   62  \n",
       "4191   75   63   51   54  \n",
       "\n",
       "[2883 rows x 106 columns]>"
      ]
     },
     "execution_count": 15,
     "metadata": {},
     "output_type": "execute_result"
    }
   ],
   "source": [
    "df_dropped.head"
   ]
  },
  {
   "cell_type": "code",
   "execution_count": 16,
   "id": "967b20b3",
   "metadata": {},
   "outputs": [
    {
     "data": {
      "text/plain": [
       "['V00',\n",
       " 'V01',\n",
       " 'V02',\n",
       " 'V03',\n",
       " 'V04',\n",
       " 'V05',\n",
       " 'V06',\n",
       " 'V07',\n",
       " 'V08',\n",
       " 'V09',\n",
       " 'V10',\n",
       " 'V11',\n",
       " 'V12',\n",
       " 'V13',\n",
       " 'V14',\n",
       " 'V15',\n",
       " 'V16',\n",
       " 'V17',\n",
       " 'V18',\n",
       " 'V19',\n",
       " 'V20',\n",
       " 'V21',\n",
       " 'V22',\n",
       " 'V23',\n",
       " 'V24',\n",
       " 'V25',\n",
       " 'V26',\n",
       " 'V27',\n",
       " 'V28',\n",
       " 'V29',\n",
       " 'V30',\n",
       " 'V31',\n",
       " 'V32',\n",
       " 'V33',\n",
       " 'V34',\n",
       " 'V35',\n",
       " 'V36',\n",
       " 'V37',\n",
       " 'V38',\n",
       " 'V39',\n",
       " 'V40',\n",
       " 'V41',\n",
       " 'V42',\n",
       " 'V43',\n",
       " 'V44',\n",
       " 'V45',\n",
       " 'V46',\n",
       " 'V47',\n",
       " 'V48',\n",
       " 'V49',\n",
       " 'V50',\n",
       " 'V51',\n",
       " 'V52',\n",
       " 'V53',\n",
       " 'V54',\n",
       " 'V55',\n",
       " 'V56',\n",
       " 'V57',\n",
       " 'V58',\n",
       " 'V59',\n",
       " 'V60',\n",
       " 'V61',\n",
       " 'V62',\n",
       " 'V63',\n",
       " 'V64',\n",
       " 'V65',\n",
       " 'V66',\n",
       " 'V67',\n",
       " 'V68',\n",
       " 'V69',\n",
       " 'V70',\n",
       " 'V71',\n",
       " 'V72',\n",
       " 'V73',\n",
       " 'V74',\n",
       " 'V75',\n",
       " 'V76',\n",
       " 'V77',\n",
       " 'V78',\n",
       " 'V79',\n",
       " 'V80',\n",
       " 'V81',\n",
       " 'V82',\n",
       " 'V83',\n",
       " 'V84',\n",
       " 'V85',\n",
       " 'V86',\n",
       " 'V87',\n",
       " 'V88',\n",
       " 'V89',\n",
       " 'V90',\n",
       " 'V91',\n",
       " 'V92',\n",
       " 'V93',\n",
       " 'V94',\n",
       " 'V95']"
      ]
     },
     "execution_count": 16,
     "metadata": {},
     "output_type": "execute_result"
    }
   ],
   "source": [
    "time_columns = [f'V{str(i).zfill(2)}' for i in range (96)]\n",
    "time_columns"
   ]
  },
  {
   "cell_type": "code",
   "execution_count": null,
   "id": "63930cfe",
   "metadata": {},
   "outputs": [],
   "source": []
  }
 ],
 "metadata": {
  "kernelspec": {
   "display_name": "venv",
   "language": "python",
   "name": "python3"
  },
  "language_info": {
   "codemirror_mode": {
    "name": "ipython",
    "version": 3
   },
   "file_extension": ".py",
   "mimetype": "text/x-python",
   "name": "python",
   "nbconvert_exporter": "python",
   "pygments_lexer": "ipython3",
   "version": "3.13.3"
  }
 },
 "nbformat": 4,
 "nbformat_minor": 5
}
